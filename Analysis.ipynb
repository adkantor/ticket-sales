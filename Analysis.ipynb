{
 "cells": [
  {
   "cell_type": "code",
   "execution_count": 52,
   "metadata": {},
   "outputs": [],
   "source": [
    "import json\n",
    "import datetime\n",
    "\n",
    "import pandas as pd\n",
    "import numpy as np\n",
    "import matplotlib.pyplot as plt\n",
    "import matplotlib.dates as mdates\n",
    "\n",
    "PATH_TO_OUTFILE = 'outfile.json'\n",
    "TOTAL_SEATS = 250"
   ]
  },
  {
   "cell_type": "code",
   "execution_count": 53,
   "metadata": {},
   "outputs": [],
   "source": [
    "def get_data() -> list[dict] | None:\n",
    "    try:\n",
    "        with open(PATH_TO_OUTFILE, 'r') as f:\n",
    "            return json.load(f)\n",
    "    except:\n",
    "        return None"
   ]
  },
  {
   "cell_type": "code",
   "execution_count": 54,
   "metadata": {},
   "outputs": [],
   "source": [
    "def convert_to_df(data:list[dict] ) -> pd.DataFrame:\n",
    "    timestamps = [datetime.datetime.fromisoformat(data_item['timestamp']) for data_item in data if isinstance(data_item['data']['prices'], dict)]\n",
    "    remaining_seats = [data_item['data']['prices']['7500'] for data_item in data if isinstance(data_item['data']['prices'], dict)]\n",
    "\n",
    "    return pd.DataFrame({\n",
    "        'timestamp': timestamps,\n",
    "        'remaining_seat': remaining_seats,\n",
    "    })"
   ]
  },
  {
   "cell_type": "code",
   "execution_count": 55,
   "metadata": {},
   "outputs": [],
   "source": [
    "def get_daily_df(df: pd.DataFrame) -> pd.DataFrame:\n",
    "    result = (df\n",
    "              .resample('D', on='timestamp') \n",
    "              .last()\n",
    "              .rename(columns={'remaining_seat': 'closing_seats'})\n",
    "    )\n",
    "    result['opening_seats'] = result['closing_seats'].shift(periods=1)\n",
    "    result['sold'] = - (result['closing_seats'] - result['opening_seats'])\n",
    "    result['weekly_sold'] = result['sold'].rolling(window=7).sum()\n",
    "    return result"
   ]
  },
  {
   "cell_type": "code",
   "execution_count": 56,
   "metadata": {},
   "outputs": [],
   "source": [
    "def get_hourly_df(df: pd.DataFrame) -> pd.DataFrame:\n",
    "    result = df.resample('h', on='timestamp').last()\n",
    "    return result"
   ]
  },
  {
   "cell_type": "code",
   "execution_count": 57,
   "metadata": {},
   "outputs": [],
   "source": [
    "def plot_hourly_df(df: pd.DataFrame):    \n",
    "    #x = pd.date_range(start='2024-09-03', end='2024-12-19', freq='h') # df.index\n",
    "    x = df.index\n",
    "    y = df['remaining_seat']\n",
    "\n",
    "    fig, ax = plt.subplots()\n",
    "\n",
    "    # set datetime axis\n",
    "    fig.gca().xaxis.set_major_formatter(mdates.DateFormatter('%Y-%m-%d'))\n",
    "    fig.gca().xaxis.set_major_locator(mdates.DayLocator(interval=7))\n",
    "\n",
    "\n",
    "    # add data\n",
    "    ax.plot(x, y, color='#f8bbd0', zorder=3)\n",
    "    plt.xticks(pd.date_range(start='2025-07-10', end='2025-11-30', freq='7D'))\n",
    "    # add gridlines\n",
    "    ax.yaxis.grid(which='major', color='lightgrey', zorder=0)\n",
    "    # remove spines\n",
    "    ax.spines['top'].set_visible(False)\n",
    "    ax.spines['right'].set_visible(False)\n",
    "    ax.spines['bottom'].set_visible(False)\n",
    "    ax.spines['left'].set_visible(False)\n",
    "    # remove y axis ticks\n",
    "    ax.tick_params(axis=u'both', which=u'both',length=0)\n",
    "    # format x axis\n",
    "    plt.gcf().autofmt_xdate(rotation=90, ha='center')\n",
    "    # add y axis limits\n",
    "    ax.set_ylim([0, TOTAL_SEATS])\n",
    "    # show last value as annotation\n",
    "    value = df['remaining_seat'].iloc[-1]\n",
    "    coord_x = df.index[-1] + datetime.timedelta(days=3)\n",
    "    coord_y = value - 10\n",
    "    ann = ax.annotate(value, [coord_x, coord_y])\n",
    "    ann.set_bbox(dict(facecolor='white', alpha=0.5, edgecolor='grey'))"
   ]
  },
  {
   "cell_type": "code",
   "execution_count": 58,
   "metadata": {},
   "outputs": [],
   "source": [
    "def plot_daily_df(df: pd.DataFrame):    \n",
    "    fig, ax = plt.subplots()\n",
    "\n",
    "    # set datetime axis\n",
    "    fig.gca().xaxis.set_major_formatter(mdates.DateFormatter('%Y-%m-%d'))\n",
    "    fig.gca().xaxis.set_major_locator(mdates.DayLocator(interval=2))\n",
    "\n",
    "\n",
    "    # add data\n",
    "    bars = ax.bar(x=df.index, height=df['weekly_sold'], color='#f8bbd0', zorder=3)\n",
    "    # add labels within box\n",
    "    ax.bar_label(bars, label_type='center', rotation='vertical', fontsize=6)\n",
    "    plt.xticks(pd.date_range(start='2025-07-10', end='2025-11-30', freq='7D'))\n",
    "    # add gridlines\n",
    "    ax.yaxis.grid(which='major', color='lightgrey', zorder=0)\n",
    "    # remove spines\n",
    "    ax.spines['top'].set_visible(False)\n",
    "    ax.spines['right'].set_visible(False)\n",
    "    ax.spines['bottom'].set_visible(False)\n",
    "    ax.spines['left'].set_visible(False)\n",
    "    # remove y axis ticks\n",
    "    ax.tick_params(axis=u'both', which=u'both',length=0)\n",
    "    # format x axis\n",
    "    plt.gcf().autofmt_xdate(rotation=90, ha='center')"
   ]
  },
  {
   "cell_type": "code",
   "execution_count": 59,
   "metadata": {},
   "outputs": [],
   "source": [
    "# def plot_daily_df(df: pd.DataFrame):    \n",
    "#     fig, ax = plt.subplots()\n",
    "\n",
    "#     # set datetime axis\n",
    "#     fig.gca().xaxis.set_major_formatter(mdates.DateFormatter('%Y-%m-%d'))\n",
    "#     fig.gca().xaxis.set_major_locator(mdates.DayLocator(interval=2))\n",
    "\n",
    "\n",
    "#     # add data\n",
    "#     bars = ax.bar(x=df.index, height=df['closing_seats'], color='#f8bbd0', zorder=3)\n",
    "#     # add labels within box\n",
    "#     ax.bar_label(bars, label_type='center', rotation='vertical', fontsize=6)\n",
    "#     # add gridlines\n",
    "#     ax.yaxis.grid(which='major', color='lightgrey', zorder=0)\n",
    "#     # remove spines\n",
    "#     ax.spines['top'].set_visible(False)\n",
    "#     ax.spines['right'].set_visible(False)\n",
    "#     ax.spines['bottom'].set_visible(False)\n",
    "#     ax.spines['left'].set_visible(False)\n",
    "#     # remove y axis ticks\n",
    "#     ax.tick_params(axis=u'both', which=u'both',length=0)\n",
    "#     # format x axis\n",
    "#     plt.gcf().autofmt_xdate(rotation=90, ha='center')"
   ]
  },
  {
   "cell_type": "code",
   "execution_count": 60,
   "metadata": {},
   "outputs": [],
   "source": [
    "# read file\n",
    "data = get_data()\n",
    "if data is None:\n",
    "    raise SystemExit(0)\n",
    "\n",
    "# convert to pandas df\n",
    "raw_df = convert_to_df(data)"
   ]
  },
  {
   "cell_type": "code",
   "execution_count": 61,
   "metadata": {},
   "outputs": [
    {
     "data": {
      "image/png": "[encoded data removed]",
      "text/plain": [
       "<Figure size 640x480 with 1 Axes>"
      ]
     },
     "metadata": {},
     "output_type": "display_data"
    },
    {
     "data": {
      "image/png": "[encoded data removed]",
      "text/plain": [
       "<Figure size 640x480 with 1 Axes>"
      ]
     },
     "metadata": {},
     "output_type": "display_data"
    }
   ],
   "source": [
    "# napi-heti összegzések\n",
    "df_daily = get_daily_df(raw_df)\n",
    "df_hourly = get_hourly_df(raw_df)\n",
    "plot_daily_df(df_daily)\n",
    "plot_hourly_df(df_hourly)"
   ]
  },
  {
   "cell_type": "code",
   "execution_count": 62,
   "metadata": {},
   "outputs": [
    {
     "data": {
      "application/vnd.microsoft.datawrangler.viewer.v0+json": {
       "columns": [
        {
         "name": "week",
         "rawType": "UInt32",
         "type": "integer"
        },
        {
         "name": "0",
         "rawType": "float64",
         "type": "float"
        },
        {
         "name": "1",
         "rawType": "float64",
         "type": "float"
        },
        {
         "name": "2",
         "rawType": "float64",
         "type": "float"
        },
        {
         "name": "3",
         "rawType": "float64",
         "type": "float"
        },
        {
         "name": "4",
         "rawType": "float64",
         "type": "float"
        },
        {
         "name": "5",
         "rawType": "float64",
         "type": "float"
        },
        {
         "name": "6",
         "rawType": "float64",
         "type": "float"
        }
       ],
       "ref": "e0d0c9c3-a400-4fe3-b961-e477e491d5a9",
       "rows": [
        [
         "28",
         null,
         null,
         null,
         null,
         null,
         "0.0",
         "0.0"
        ],
        [
         "29",
         "2.0",
         "0.0",
         "11.0",
         "0.0",
         "0.0",
         "0.0",
         "0.0"
        ],
        [
         "30",
         "0.0",
         "0.0",
         "7.0",
         "0.0",
         "0.0",
         "0.0",
         "0.0"
        ],
        [
         "31",
         "0.0",
         "0.0",
         "0.0",
         "0.0",
         "0.0",
         "0.0",
         "0.0"
        ],
        [
         "32",
         "0.0",
         "0.0",
         "2.0",
         "2.0",
         "0.0",
         "0.0",
         "0.0"
        ],
        [
         "33",
         "0.0",
         "0.0",
         "0.0",
         "0.0",
         "0.0",
         "2.0",
         "0.0"
        ],
        [
         "34",
         "0.0",
         "0.0",
         "2.0",
         "0.0",
         "0.0",
         "0.0",
         "0.0"
        ],
        [
         "35",
         "1.0",
         "-1.0",
         "0.0",
         "2.0",
         "3.0",
         "0.0",
         "1.0"
        ],
        [
         "36",
         "2.0",
         "0.0",
         "0.0",
         "5.0",
         "3.0",
         "2.0",
         "0.0"
        ],
        [
         "37",
         "0.0",
         "0.0",
         "0.0",
         "0.0",
         "0.0",
         "0.0",
         "0.0"
        ],
        [
         "38",
         "0.0",
         "0.0",
         "0.0",
         "4.0",
         "7.0",
         "0.0",
         "7.0"
        ],
        [
         "39",
         "0.0",
         "1.0",
         "6.0",
         "7.0",
         "0.0",
         "11.0",
         "2.0"
        ],
        [
         "40",
         "0.0",
         "3.0",
         "0.0",
         "0.0",
         "3.0",
         "3.0",
         "6.0"
        ],
        [
         "41",
         "3.0",
         "8.0",
         "2.0",
         "12.0",
         "18.0",
         "7.0",
         "3.0"
        ],
        [
         "42",
         "2.0",
         "2.0",
         "5.0",
         "0.0",
         null,
         null,
         null
        ]
       ],
       "shape": {
        "columns": 7,
        "rows": 15
       }
      },
      "text/html": [
       "<div>\n",
       "<style scoped>\n",
       "    .dataframe tbody tr th:only-of-type {\n",
       "        vertical-align: middle;\n",
       "    }\n",
       "\n",
       "    .dataframe tbody tr th {\n",
       "        vertical-align: top;\n",
       "    }\n",
       "\n",
       "    .dataframe thead th {\n",
       "        text-align: right;\n",
       "    }\n",
       "</style>\n",
       "<table border=\"1\" class=\"dataframe\">\n",
       "  <thead>\n",
       "    <tr style=\"text-align: right;\">\n",
       "      <th>DOW1</th>\n",
       "      <th>0</th>\n",
       "      <th>1</th>\n",
       "      <th>2</th>\n",
       "      <th>3</th>\n",
       "      <th>4</th>\n",
       "      <th>5</th>\n",
       "      <th>6</th>\n",
       "    </tr>\n",
       "    <tr>\n",
       "      <th>week</th>\n",
       "      <th></th>\n",
       "      <th></th>\n",
       "      <th></th>\n",
       "      <th></th>\n",
       "      <th></th>\n",
       "      <th></th>\n",
       "      <th></th>\n",
       "    </tr>\n",
       "  </thead>\n",
       "  <tbody>\n",
       "    <tr>\n",
       "      <th>28</th>\n",
       "      <td>NaN</td>\n",
       "      <td>NaN</td>\n",
       "      <td>NaN</td>\n",
       "      <td>NaN</td>\n",
       "      <td>NaN</td>\n",
       "      <td>0.0</td>\n",
       "      <td>0.0</td>\n",
       "    </tr>\n",
       "    <tr>\n",
       "      <th>29</th>\n",
       "      <td>2.0</td>\n",
       "      <td>0.0</td>\n",
       "      <td>11.0</td>\n",
       "      <td>0.0</td>\n",
       "      <td>0.0</td>\n",
       "      <td>0.0</td>\n",
       "      <td>0.0</td>\n",
       "    </tr>\n",
       "    <tr>\n",
       "      <th>30</th>\n",
       "      <td>0.0</td>\n",
       "      <td>0.0</td>\n",
       "      <td>7.0</td>\n",
       "      <td>0.0</td>\n",
       "      <td>0.0</td>\n",
       "      <td>0.0</td>\n",
       "      <td>0.0</td>\n",
       "    </tr>\n",
       "    <tr>\n",
       "      <th>31</th>\n",
       "      <td>0.0</td>\n",
       "      <td>0.0</td>\n",
       "      <td>0.0</td>\n",
       "      <td>0.0</td>\n",
       "      <td>0.0</td>\n",
       "      <td>0.0</td>\n",
       "      <td>0.0</td>\n",
       "    </tr>\n",
       "    <tr>\n",
       "      <th>32</th>\n",
       "      <td>0.0</td>\n",
       "      <td>0.0</td>\n",
       "      <td>2.0</td>\n",
       "      <td>2.0</td>\n",
       "      <td>0.0</td>\n",
       "      <td>0.0</td>\n",
       "      <td>0.0</td>\n",
       "    </tr>\n",
       "    <tr>\n",
       "      <th>33</th>\n",
       "      <td>0.0</td>\n",
       "      <td>0.0</td>\n",
       "      <td>0.0</td>\n",
       "      <td>0.0</td>\n",
       "      <td>0.0</td>\n",
       "      <td>2.0</td>\n",
       "      <td>0.0</td>\n",
       "    </tr>\n",
       "    <tr>\n",
       "      <th>34</th>\n",
       "      <td>0.0</td>\n",
       "      <td>0.0</td>\n",
       "      <td>2.0</td>\n",
       "      <td>0.0</td>\n",
       "      <td>0.0</td>\n",
       "      <td>0.0</td>\n",
       "      <td>0.0</td>\n",
       "    </tr>\n",
       "    <tr>\n",
       "      <th>35</th>\n",
       "      <td>1.0</td>\n",
       "      <td>-1.0</td>\n",
       "      <td>0.0</td>\n",
       "      <td>2.0</td>\n",
       "      <td>3.0</td>\n",
       "      <td>0.0</td>\n",
       "      <td>1.0</td>\n",
       "    </tr>\n",
       "    <tr>\n",
       "      <th>36</th>\n",
       "      <td>2.0</td>\n",
       "      <td>0.0</td>\n",
       "      <td>0.0</td>\n",
       "      <td>5.0</td>\n",
       "      <td>3.0</td>\n",
       "      <td>2.0</td>\n",
       "      <td>0.0</td>\n",
       "    </tr>\n",
       "    <tr>\n",
       "      <th>37</th>\n",
       "      <td>0.0</td>\n",
       "      <td>0.0</td>\n",
       "      <td>0.0</td>\n",
       "      <td>0.0</td>\n",
       "      <td>0.0</td>\n",
       "      <td>0.0</td>\n",
       "      <td>0.0</td>\n",
       "    </tr>\n",
       "    <tr>\n",
       "      <th>38</th>\n",
       "      <td>0.0</td>\n",
       "      <td>0.0</td>\n",
       "      <td>0.0</td>\n",
       "      <td>4.0</td>\n",
       "      <td>7.0</td>\n",
       "      <td>0.0</td>\n",
       "      <td>7.0</td>\n",
       "    </tr>\n",
       "    <tr>\n",
       "      <th>39</th>\n",
       "      <td>0.0</td>\n",
       "      <td>1.0</td>\n",
       "      <td>6.0</td>\n",
       "      <td>7.0</td>\n",
       "      <td>0.0</td>\n",
       "      <td>11.0</td>\n",
       "      <td>2.0</td>\n",
       "    </tr>\n",
       "    <tr>\n",
       "      <th>40</th>\n",
       "      <td>0.0</td>\n",
       "      <td>3.0</td>\n",
       "      <td>0.0</td>\n",
       "      <td>0.0</td>\n",
       "      <td>3.0</td>\n",
       "      <td>3.0</td>\n",
       "      <td>6.0</td>\n",
       "    </tr>\n",
       "    <tr>\n",
       "      <th>41</th>\n",
       "      <td>3.0</td>\n",
       "      <td>8.0</td>\n",
       "      <td>2.0</td>\n",
       "      <td>12.0</td>\n",
       "      <td>18.0</td>\n",
       "      <td>7.0</td>\n",
       "      <td>3.0</td>\n",
       "    </tr>\n",
       "    <tr>\n",
       "      <th>42</th>\n",
       "      <td>2.0</td>\n",
       "      <td>2.0</td>\n",
       "      <td>5.0</td>\n",
       "      <td>0.0</td>\n",
       "      <td>NaN</td>\n",
       "      <td>NaN</td>\n",
       "      <td>NaN</td>\n",
       "    </tr>\n",
       "  </tbody>\n",
       "</table>\n",
       "</div>"
      ],
      "text/plain": [
       "DOW1    0    1     2     3     4     5    6\n",
       "week                                       \n",
       "28    NaN  NaN   NaN   NaN   NaN   0.0  0.0\n",
       "29    2.0  0.0  11.0   0.0   0.0   0.0  0.0\n",
       "30    0.0  0.0   7.0   0.0   0.0   0.0  0.0\n",
       "31    0.0  0.0   0.0   0.0   0.0   0.0  0.0\n",
       "32    0.0  0.0   2.0   2.0   0.0   0.0  0.0\n",
       "33    0.0  0.0   0.0   0.0   0.0   2.0  0.0\n",
       "34    0.0  0.0   2.0   0.0   0.0   0.0  0.0\n",
       "35    1.0 -1.0   0.0   2.0   3.0   0.0  1.0\n",
       "36    2.0  0.0   0.0   5.0   3.0   2.0  0.0\n",
       "37    0.0  0.0   0.0   0.0   0.0   0.0  0.0\n",
       "38    0.0  0.0   0.0   4.0   7.0   0.0  7.0\n",
       "39    0.0  1.0   6.0   7.0   0.0  11.0  2.0\n",
       "40    0.0  3.0   0.0   0.0   3.0   3.0  6.0\n",
       "41    3.0  8.0   2.0  12.0  18.0   7.0  3.0\n",
       "42    2.0  2.0   5.0   0.0   NaN   NaN  NaN"
      ]
     },
     "execution_count": 62,
     "metadata": {},
     "output_type": "execute_result"
    }
   ],
   "source": [
    "def get_day_of_week_df(df: pd.DataFrame) -> pd.DataFrame:\n",
    "    result = df.copy(deep=True)\n",
    "    result ['week'] = result['timestamp'].dt.isocalendar().week\n",
    "    result['DOW1'] = result['timestamp'].dt.dayofweek\n",
    "    result['DOW2'] = result['timestamp'].dt.day_name(locale='HU')\n",
    "    result = (result\n",
    "              .resample('D', on='timestamp') \n",
    "              .last()\n",
    "              .rename(columns={'remaining_seat': 'closing_seats'})\n",
    "    )\n",
    "    result['opening_seats'] = result['closing_seats'].shift(periods=1)\n",
    "    result['sold'] = - (result['closing_seats'] - result['opening_seats'])\n",
    "    result = result.drop(['opening_seats', 'closing_seats'], axis=1)\n",
    "    result = result.iloc[1:, :]\n",
    "    \n",
    "    result = result.groupby(['week','DOW1', 'DOW2']).agg('mean').reset_index()\n",
    "    result = result.round(1)\n",
    "    \n",
    "    result = pd.crosstab(\n",
    "        index=result['week'],\n",
    "        columns=result['DOW1'],\n",
    "        values=result['sold'],\n",
    "        aggfunc='sum'\n",
    "    )\n",
    "    return result\n",
    "\n",
    "day_of_week_df = get_day_of_week_df(raw_df)\n",
    "day_of_week_df"
   ]
  },
  {
   "cell_type": "code",
   "execution_count": 64,
   "metadata": {},
   "outputs": [
    {
     "data": {
      "application/vnd.microsoft.datawrangler.viewer.v0+json": {
       "columns": [
        {
         "name": "HOD",
         "rawType": "int32",
         "type": "integer"
        },
        {
         "name": "sold",
         "rawType": "object",
         "type": "string"
        }
       ],
       "ref": "0e243a88-bfc9-4d1d-8da5-384aa4e424c5",
       "rows": [
        [
         "0",
         "3.57%"
        ],
        [
         "1",
         "-3.57%"
        ],
        [
         "2",
         "0.00%"
        ],
        [
         "3",
         "0.00%"
        ],
        [
         "4",
         "1.79%"
        ],
        [
         "5",
         "-1.19%"
        ],
        [
         "6",
         "1.79%"
        ],
        [
         "7",
         "11.90%"
        ],
        [
         "8",
         "0.00%"
        ],
        [
         "9",
         "8.33%"
        ],
        [
         "10",
         "6.55%"
        ],
        [
         "11",
         "4.76%"
        ],
        [
         "12",
         "11.90%"
        ],
        [
         "13",
         "-1.19%"
        ],
        [
         "14",
         "17.86%"
        ],
        [
         "15",
         "-0.60%"
        ],
        [
         "16",
         "4.17%"
        ],
        [
         "17",
         "5.95%"
        ],
        [
         "18",
         "2.98%"
        ],
        [
         "19",
         "0.00%"
        ],
        [
         "20",
         "-79.76%"
        ],
        [
         "21",
         "105.95%"
        ],
        [
         "22",
         "-7.14%"
        ],
        [
         "23",
         "5.95%"
        ]
       ],
       "shape": {
        "columns": 1,
        "rows": 24
       }
      },
      "text/html": [
       "<div>\n",
       "<style scoped>\n",
       "    .dataframe tbody tr th:only-of-type {\n",
       "        vertical-align: middle;\n",
       "    }\n",
       "\n",
       "    .dataframe tbody tr th {\n",
       "        vertical-align: top;\n",
       "    }\n",
       "\n",
       "    .dataframe thead th {\n",
       "        text-align: right;\n",
       "    }\n",
       "</style>\n",
       "<table border=\"1\" class=\"dataframe\">\n",
       "  <thead>\n",
       "    <tr style=\"text-align: right;\">\n",
       "      <th></th>\n",
       "      <th>sold</th>\n",
       "    </tr>\n",
       "    <tr>\n",
       "      <th>HOD</th>\n",
       "      <th></th>\n",
       "    </tr>\n",
       "  </thead>\n",
       "  <tbody>\n",
       "    <tr>\n",
       "      <th>0</th>\n",
       "      <td>3.57%</td>\n",
       "    </tr>\n",
       "    <tr>\n",
       "      <th>1</th>\n",
       "      <td>-3.57%</td>\n",
       "    </tr>\n",
       "    <tr>\n",
       "      <th>2</th>\n",
       "      <td>0.00%</td>\n",
       "    </tr>\n",
       "    <tr>\n",
       "      <th>3</th>\n",
       "      <td>0.00%</td>\n",
       "    </tr>\n",
       "    <tr>\n",
       "      <th>4</th>\n",
       "      <td>1.79%</td>\n",
       "    </tr>\n",
       "    <tr>\n",
       "      <th>5</th>\n",
       "      <td>-1.19%</td>\n",
       "    </tr>\n",
       "    <tr>\n",
       "      <th>6</th>\n",
       "      <td>1.79%</td>\n",
       "    </tr>\n",
       "    <tr>\n",
       "      <th>7</th>\n",
       "      <td>11.90%</td>\n",
       "    </tr>\n",
       "    <tr>\n",
       "      <th>8</th>\n",
       "      <td>0.00%</td>\n",
       "    </tr>\n",
       "    <tr>\n",
       "      <th>9</th>\n",
       "      <td>8.33%</td>\n",
       "    </tr>\n",
       "    <tr>\n",
       "      <th>10</th>\n",
       "      <td>6.55%</td>\n",
       "    </tr>\n",
       "    <tr>\n",
       "      <th>11</th>\n",
       "      <td>4.76%</td>\n",
       "    </tr>\n",
       "    <tr>\n",
       "      <th>12</th>\n",
       "      <td>11.90%</td>\n",
       "    </tr>\n",
       "    <tr>\n",
       "      <th>13</th>\n",
       "      <td>-1.19%</td>\n",
       "    </tr>\n",
       "    <tr>\n",
       "      <th>14</th>\n",
       "      <td>17.86%</td>\n",
       "    </tr>\n",
       "    <tr>\n",
       "      <th>15</th>\n",
       "      <td>-0.60%</td>\n",
       "    </tr>\n",
       "    <tr>\n",
       "      <th>16</th>\n",
       "      <td>4.17%</td>\n",
       "    </tr>\n",
       "    <tr>\n",
       "      <th>17</th>\n",
       "      <td>5.95%</td>\n",
       "    </tr>\n",
       "    <tr>\n",
       "      <th>18</th>\n",
       "      <td>2.98%</td>\n",
       "    </tr>\n",
       "    <tr>\n",
       "      <th>19</th>\n",
       "      <td>0.00%</td>\n",
       "    </tr>\n",
       "    <tr>\n",
       "      <th>20</th>\n",
       "      <td>-79.76%</td>\n",
       "    </tr>\n",
       "    <tr>\n",
       "      <th>21</th>\n",
       "      <td>105.95%</td>\n",
       "    </tr>\n",
       "    <tr>\n",
       "      <th>22</th>\n",
       "      <td>-7.14%</td>\n",
       "    </tr>\n",
       "    <tr>\n",
       "      <th>23</th>\n",
       "      <td>5.95%</td>\n",
       "    </tr>\n",
       "  </tbody>\n",
       "</table>\n",
       "</div>"
      ],
      "text/plain": [
       "        sold\n",
       "HOD         \n",
       "0      3.57%\n",
       "1     -3.57%\n",
       "2      0.00%\n",
       "3      0.00%\n",
       "4      1.79%\n",
       "5     -1.19%\n",
       "6      1.79%\n",
       "7     11.90%\n",
       "8      0.00%\n",
       "9      8.33%\n",
       "10     6.55%\n",
       "11     4.76%\n",
       "12    11.90%\n",
       "13    -1.19%\n",
       "14    17.86%\n",
       "15    -0.60%\n",
       "16     4.17%\n",
       "17     5.95%\n",
       "18     2.98%\n",
       "19     0.00%\n",
       "20   -79.76%\n",
       "21   105.95%\n",
       "22    -7.14%\n",
       "23     5.95%"
      ]
     },
     "execution_count": 64,
     "metadata": {},
     "output_type": "execute_result"
    }
   ],
   "source": [
    "def get_hour_of_day_df(df: pd.DataFrame) -> pd.DataFrame:\n",
    "    result = df.copy(deep=True)\n",
    "    result = (result\n",
    "              .resample('h', on='timestamp') \n",
    "              .last()\n",
    "              .rename(columns={'remaining_seat': 'closing_seats'})\n",
    "              .reset_index()\n",
    "    )\n",
    "    result = result.ffill()\n",
    "    result['HOD'] = result['timestamp'].dt.hour\n",
    "    result['opening_seats'] = result['closing_seats'].shift(periods=1)\n",
    "    result['sold'] = - (result['closing_seats'] - result['opening_seats'])\n",
    "    result = result.drop(['timestamp', 'opening_seats', 'closing_seats'], axis=1)\n",
    "    result = result.iloc[1:, :]\n",
    "    \n",
    "    result = result.groupby(['HOD']).agg('sum')\n",
    "\n",
    "    result = result / result.sum()\n",
    "    result['sold'] = result['sold'].map('{:.2%}'.format)\n",
    "\n",
    "    return result\n",
    "\n",
    "hour_of_day_df = get_hour_of_day_df(raw_df)\n",
    "hour_of_day_df"
   ]
  }
 ],
 "metadata": {
  "kernelspec": {
   "display_name": "ticket-sales",
   "language": "python",
   "name": "ticket-sales"
  },
  "language_info": {
   "codemirror_mode": {
    "name": "ipython",
    "version": 3
   },
   "file_extension": ".py",
   "mimetype": "text/x-python",
   "name": "python",
   "nbconvert_exporter": "python",
   "pygments_lexer": "ipython3",
   "version": "3.11.5"
  }
 },
 "nbformat": 4,
 "nbformat_minor": 2
}
